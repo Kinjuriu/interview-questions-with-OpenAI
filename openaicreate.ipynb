{
 "cells": [
  {
   "cell_type": "code",
   "execution_count": 1,
   "id": "35723735-5b3a-4fa7-9b63-578ef94f8fbb",
   "metadata": {},
   "outputs": [
    {
     "name": "stdout",
     "output_type": "stream",
     "text": [
      "Requirement already satisfied: openai in /Users/stephanenjoki/opt/anaconda3/lib/python3.9/site-packages (0.20.0)\n",
      "Requirement already satisfied: python-dotenv in /Users/stephanenjoki/opt/anaconda3/lib/python3.9/site-packages (0.20.0)\n",
      "Requirement already satisfied: tqdm in /Users/stephanenjoki/opt/anaconda3/lib/python3.9/site-packages (from openai) (4.64.0)\n",
      "Requirement already satisfied: pandas>=1.2.3 in /Users/stephanenjoki/opt/anaconda3/lib/python3.9/site-packages (from openai) (1.4.2)\n",
      "Requirement already satisfied: requests>=2.20 in /Users/stephanenjoki/opt/anaconda3/lib/python3.9/site-packages (from openai) (2.27.1)\n",
      "Requirement already satisfied: openpyxl>=3.0.7 in /Users/stephanenjoki/opt/anaconda3/lib/python3.9/site-packages (from openai) (3.0.9)\n",
      "Requirement already satisfied: pandas-stubs>=1.1.0.11 in /Users/stephanenjoki/opt/anaconda3/lib/python3.9/site-packages (from openai) (1.4.3.220710)\n",
      "Requirement already satisfied: et-xmlfile in /Users/stephanenjoki/opt/anaconda3/lib/python3.9/site-packages (from openpyxl>=3.0.7->openai) (1.1.0)\n",
      "Requirement already satisfied: python-dateutil>=2.8.1 in /Users/stephanenjoki/opt/anaconda3/lib/python3.9/site-packages (from pandas>=1.2.3->openai) (2.8.2)\n",
      "Requirement already satisfied: pytz>=2020.1 in /Users/stephanenjoki/opt/anaconda3/lib/python3.9/site-packages (from pandas>=1.2.3->openai) (2021.3)\n",
      "Requirement already satisfied: numpy>=1.18.5 in /Users/stephanenjoki/opt/anaconda3/lib/python3.9/site-packages (from pandas>=1.2.3->openai) (1.21.5)\n",
      "Requirement already satisfied: six>=1.5 in /Users/stephanenjoki/opt/anaconda3/lib/python3.9/site-packages (from python-dateutil>=2.8.1->pandas>=1.2.3->openai) (1.16.0)\n",
      "Requirement already satisfied: idna<4,>=2.5 in /Users/stephanenjoki/opt/anaconda3/lib/python3.9/site-packages (from requests>=2.20->openai) (3.3)\n",
      "Requirement already satisfied: urllib3<1.27,>=1.21.1 in /Users/stephanenjoki/opt/anaconda3/lib/python3.9/site-packages (from requests>=2.20->openai) (1.26.9)\n",
      "Requirement already satisfied: certifi>=2017.4.17 in /Users/stephanenjoki/opt/anaconda3/lib/python3.9/site-packages (from requests>=2.20->openai) (2021.10.8)\n",
      "Requirement already satisfied: charset-normalizer~=2.0.0 in /Users/stephanenjoki/opt/anaconda3/lib/python3.9/site-packages (from requests>=2.20->openai) (2.0.4)\n",
      "Note: you may need to restart the kernel to use updated packages.\n"
     ]
    }
   ],
   "source": [
    "pip install openai python-dotenv"
   ]
  },
  {
   "cell_type": "code",
   "execution_count": 2,
   "id": "c6c5a174-23fe-4208-a63c-1f1359d118fb",
   "metadata": {},
   "outputs": [
    {
     "data": {
      "text/plain": [
       "True"
      ]
     },
     "execution_count": 2,
     "metadata": {},
     "output_type": "execute_result"
    }
   ],
   "source": [
    "import os\n",
    "import openai\n",
    "from os import environ\n",
    "import dotenv\n",
    "env_file = '.env'\n",
    "dotenv.load_dotenv(env_file, override=True)"
   ]
  },
  {
   "cell_type": "code",
   "execution_count": 3,
   "id": "f66d23de-9fb1-46c5-99f9-480bde78e19b",
   "metadata": {},
   "outputs": [
    {
     "name": "stdout",
     "output_type": "stream",
     "text": [
      "\n",
      "\n",
      "1. What is a supervised learning algorithm?\n",
      "2. What is a unsupervised learning algorithm?\n",
      "3. What is a neural network?\n",
      "4. What is a deep learning algorithm?\n",
      "5. What is a convolutional neural network?\n",
      "6. What is a recurrent neural network?\n",
      "7. What is a Long Short-Term Memory network?\n",
      "8. What is a Deep Q-Network?\n"
     ]
    }
   ],
   "source": [
    "openai.api_key = os.getenv(\"OPENAI_API_KEY\")\n",
    "\n",
    "response = openai.Completion.create(\n",
    "  model=\"text-davinci-002\",\n",
    "  prompt=\"Create a list of 8 questions for a machine learning interview:\",\n",
    "  temperature=0.5,\n",
    "  max_tokens=150,\n",
    "  top_p=1.0,\n",
    "  frequency_penalty=0.0,\n",
    "  presence_penalty=0.0\n",
    ")\n",
    "print(response[\"choices\"][0][\"text\"])"
   ]
  },
  {
   "cell_type": "code",
   "execution_count": null,
   "id": "e78db33c-45fb-4881-8a19-19f3dc7a6db6",
   "metadata": {},
   "outputs": [],
   "source": []
  }
 ],
 "metadata": {
  "kernelspec": {
   "display_name": "Python 3 (ipykernel)",
   "language": "python",
   "name": "python3"
  },
  "language_info": {
   "codemirror_mode": {
    "name": "ipython",
    "version": 3
   },
   "file_extension": ".py",
   "mimetype": "text/x-python",
   "name": "python",
   "nbconvert_exporter": "python",
   "pygments_lexer": "ipython3",
   "version": "3.9.12"
  }
 },
 "nbformat": 4,
 "nbformat_minor": 5
}
